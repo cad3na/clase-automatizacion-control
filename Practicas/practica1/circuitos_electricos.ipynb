{
 "cells": [
  {
   "cell_type": "markdown",
   "metadata": {},
   "source": [
    "# Modelado de sistemas eléctricos"
   ]
  },
  {
   "cell_type": "markdown",
   "metadata": {},
   "source": [
    "## Un circuito sencillo"
   ]
  },
  {
   "cell_type": "markdown",
   "metadata": {},
   "source": [
    "Empezaremos esta práctica modelando un sistema sencillo, un circuito con una resistencia y una capacitancia como el de la siguiente figura:"
   ]
  },
  {
   "cell_type": "markdown",
   "metadata": {},
   "source": [
    "![](./imagenes/cir1.png)"
   ]
  },
  {
   "cell_type": "markdown",
   "metadata": {},
   "source": [
    "Este circuito tiene una ecuación diferencial:\n",
    "\n",
    "$$\n",
    "V_1 = I R_1 + \\frac{1}{C_1} \\int I dt\n",
    "$$"
   ]
  },
  {
   "cell_type": "markdown",
   "metadata": {},
   "source": [
    "en donde $R_1$ representa el valor de la resistencia ```R1```, y la caida de voltaje en esta resistencia es $I R_1$; $C_1$ representa el valor del capacitor ```C1```, y la caida de voltaje en este capacitor es $\\frac{1}{C_1}\\int I dt$; por lo que si sumamos las fuentes de voltaje y las igualamos a las caidas de voltaje (todos los elementos que consumen una parte de este voltaje) podremos obtener esta ecuación.\n",
    "\n",
    "Si ahora hacemos increiblemente obvio cuales de estas cantidades son variables y cuales son constantes, llegaremos a escribir esta ecuación como:\n",
    "\n",
    "$$\n",
    "V_1(t) = I(t) R_1 + \\frac{1}{C_1} \\int I(t) dt\n",
    "$$"
   ]
  },
  {
   "cell_type": "markdown",
   "metadata": {},
   "source": [
    "En donde si considero que el voltaje suministrado por la fuente de alimentación puede variar con lo que pasa el tiempo, llego a la conclusión que el voltaje varia con el tiempo, es decir\n",
    "\n",
    "$$\n",
    "V_1 = V_1(t)\n",
    "$$\n",
    "\n",
    "Y que cuando este voltaje varíe, la corriente a traves del circuito cambiará, por lo que:\n",
    "\n",
    "$$\n",
    "I = I(t)\n",
    "$$\n",
    "\n",
    "La herramienta que utilizaremos para obtener una simulación de este sistema será la transformada de Laplace; sin embargo, para este tipo de sistemas podemos utilizar una simplificación de estas tomando en cuenta que solo servirán si mi sistema empieza con condiciones iniciales $0$ (en este caso significa que nuestro sistema empieza apagado, y en el tiempo $t=0$ lo enciendo):\n",
    "\n",
    "$$\n",
    "\\begin{align}\n",
    "\\mathcal{L}\\left\\{ \\int f(t) dt \\right\\} &= \\frac{1}{s} F(s) \\\\\n",
    "\\mathcal{L}\\left\\{ f(t) \\right\\} &= F(s) \\\\\n",
    "\\mathcal{L}\\left\\{ f'(t) \\right\\} &= sF(s) \\\\\n",
    "\\mathcal{L}\\left\\{ f''(t) \\right\\} &= s^2F(s) \\\\\n",
    "\\end{align}\n",
    "$$\n",
    "\n",
    "Si aplicamos estas transformadas, obtendremos:\n",
    "\n",
    "$$\n",
    "V_1(s)  = I(s) R_1 + \\frac{1}{C_1} \\frac{1}{s} I(s)\n",
    "$$"
   ]
  },
  {
   "cell_type": "markdown",
   "metadata": {},
   "source": [
    "El siguiente paso será obtener la función de transferencia del sistema, para esto tenemos que pensar en el sistema como una caja negra, de la cual queremos obtener una relación:\n",
    "\n",
    "![](./imagenes/sis1.png)\n",
    "\n",
    "Si pensamos en este sistema como una caja que multiplica su entrada por lo que sea que tenga adentro y como resultado de esta multiplicación obtenemos la salida, la ecuación de lo que tiene adentro tiene que ser:\n",
    "\n",
    "$$\n",
    "G(s) = \\frac{Salida}{Entrada}\n",
    "$$\n",
    "\n",
    "por lo que nuestro objetivo tiene que ser obtener esta ecuación. Como dijimos anteriormente, la corriente $I(t)$ es el resultado de conectar nuestro circuito a un voltaje, por lo que nuestra función de transferencia tiene que ser:\n",
    "\n",
    "$$\n",
    "G(s) = \\frac{I(s)}{V(s)}\n",
    "$$\n",
    "\n",
    "Si ahora despejamos $V(s)$ por un lado, y $I(s)$ del otro, obtendremos:\n",
    "\n",
    "$$\n",
    "V(s) = I(s)\\left[ R_1 + \\frac{1}{C_1s} \\right]\n",
    "$$"
   ]
  },
  {
   "cell_type": "markdown",
   "metadata": {},
   "source": [
    "Obteniendo la división de $I(s)$ entre $V(s)$, obtendremos:\n",
    "\n",
    "$$\n",
    "\\frac{I(s)}{V(s)} = \\frac{1}{R_1 + \\frac{1}{C_1s}}\n",
    "$$"
   ]
  },
  {
   "cell_type": "markdown",
   "metadata": {},
   "source": [
    "Si ahora multiplicamos tanto el numerador, como el denomidador por $s$, obtendremos:\n",
    "\n",
    "$$\n",
    "\\frac{I(s)}{V(s)} = G_1(s) = \\frac{s}{R_1 s + \\frac{1}{C_1}}\n",
    "$$\n",
    "\n",
    "Con esta función de transferencia podremos simular nuestro sistema, para esto importamos las funciones ```tf``` y ```step_response``` de la librería de control, así como ```linspace``` de ```numpy```:"
   ]
  },
  {
   "cell_type": "code",
   "execution_count": null,
   "metadata": {},
   "outputs": [],
   "source": [
    "from control import tf, step_response\n",
    "from numpy import linspace"
   ]
  },
  {
   "cell_type": "markdown",
   "metadata": {},
   "source": [
    "Para definir la función de transferencia debemos usar la función ```tf``` escribiendo el numerador de la función $G(s)$ primero y el denominador despues:\n",
    "\n",
    "$s = s + 0\\implies$ ```[1, 0]```\n",
    "\n",
    "$R_1 s + \\frac{1}{C_1} \\implies$ ```[R1, 1/C1]```"
   ]
  },
  {
   "cell_type": "code",
   "execution_count": null,
   "metadata": {},
   "outputs": [],
   "source": [
    "R1 = 220\n",
    "C1 = 0.1e-3\n",
    "G1 = tf([1, 0], [R1, 1/C1])"
   ]
  },
  {
   "cell_type": "markdown",
   "metadata": {},
   "source": [
    "Usamos ```linspace``` para definir los limites de tiempo de nuestra simulación, así como el número de puntos a utilizar; en este caso simularemos nuestro sistema desde el tiempo $0s$ hasta el tiempo $0.4s$ con un total de $100$ puntos:"
   ]
  },
  {
   "cell_type": "code",
   "execution_count": null,
   "metadata": {},
   "outputs": [],
   "source": [
    "ts = linspace(0, 0.4, 100)"
   ]
  },
  {
   "cell_type": "markdown",
   "metadata": {},
   "source": [
    "Una vez que hemos definido todos estos parametros, los metemos a ```step_response``` para obtener nuestros datos:"
   ]
  },
  {
   "cell_type": "code",
   "execution_count": null,
   "metadata": {},
   "outputs": [],
   "source": [
    "t, y = step_response(G1, ts)"
   ]
  },
  {
   "cell_type": "markdown",
   "metadata": {},
   "source": [
    "Y graficarlos con la función ```plot``` de ```matplotlib```:"
   ]
  },
  {
   "cell_type": "code",
   "execution_count": null,
   "metadata": {},
   "outputs": [],
   "source": [
    "from matplotlib.pyplot import plot"
   ]
  },
  {
   "cell_type": "code",
   "execution_count": null,
   "metadata": {},
   "outputs": [],
   "source": [
    "plot(t, y);"
   ]
  },
  {
   "cell_type": "markdown",
   "metadata": {},
   "source": [
    "Por lo que podemos ver que el comportamiento del sistema es tener un pico de corriente, en cuanto es conectado, de un poco mas de $4mA$, sin embargo este es el comportamiento del sistema cuando se le conecta un voltaje de $1V$, debido a que por default la función ```step_response``` simulará el comportamiento del sistema ante un escalon unitario.\n",
    "\n",
    "Para poder simular el sistema ante un escalon de $5V$, tendremos que premultiplicar este sistema por una amplificación de $5$:"
   ]
  },
  {
   "cell_type": "code",
   "execution_count": null,
   "metadata": {},
   "outputs": [],
   "source": [
    "A = 5"
   ]
  },
  {
   "cell_type": "code",
   "execution_count": null,
   "metadata": {},
   "outputs": [],
   "source": [
    "t, y = step_response(A*G1, ts)"
   ]
  },
  {
   "cell_type": "code",
   "execution_count": null,
   "metadata": {},
   "outputs": [],
   "source": [
    "plot(t, y);"
   ]
  },
  {
   "cell_type": "markdown",
   "metadata": {},
   "source": [
    "Por lo que sabemos que al inicio de la simulación se tiene un pico de un poco mas de $20mA$."
   ]
  },
  {
   "cell_type": "markdown",
   "metadata": {},
   "source": [
    "Una vez que tenemos la simulación de la corriente del sistema, podemos obtener el voltaje en cualquier elemento, por ejemplo en el capacitor; para hacer esto necesitamos la función de transferencia del capacitor, la cual transforma una corriente $I(t)$ en un voltaje $V_C(t)$, si recordamos, ya tenemos esta ecuación:\n",
    "\n",
    "$$\n",
    "V_C = \\frac{1}{C_1} \\int I dt \\implies \\frac{V_C(s)}{I(t)} = G_2(s) = \\frac{1}{C_1} \\frac{1}{s} = \\frac{1}{C_1s}\n",
    "$$\n",
    "\n",
    "por lo que definimos esta función de transferencia:"
   ]
  },
  {
   "cell_type": "code",
   "execution_count": null,
   "metadata": {},
   "outputs": [],
   "source": [
    "G2 = tf([1], [C1, 0])"
   ]
  },
  {
   "cell_type": "markdown",
   "metadata": {},
   "source": [
    "Y simulamos el comportamiento de los dos sistemas uno detras de otro:"
   ]
  },
  {
   "cell_type": "code",
   "execution_count": null,
   "metadata": {},
   "outputs": [],
   "source": [
    "t, y = step_response(A*G1*G2, ts)"
   ]
  },
  {
   "cell_type": "code",
   "execution_count": null,
   "metadata": {},
   "outputs": [],
   "source": [
    "plot(t, y);"
   ]
  },
  {
   "cell_type": "markdown",
   "metadata": {},
   "source": [
    "En esta gráfica lo que podemos ver es el capacitor llenandose con el voltaje aplicado en aproximadamente una decima de segundo."
   ]
  },
  {
   "cell_type": "markdown",
   "metadata": {},
   "source": [
    "---\n",
    "## Ejercicio"
   ]
  },
  {
   "cell_type": "markdown",
   "metadata": {},
   "source": [
    "Tomando en cuenta el siguiente circuito:\n",
    "\n",
    "![](./imagenes/cir2.png)\n",
    "\n",
    "con la siguiente ecuación diferencial:\n",
    "\n",
    "$$\n",
    "V_1 = L_1 \\frac{dI}{dt} + I R_1 + \\frac{1}{C_1} \\int I dt\n",
    "$$\n",
    "\n",
    "* Define una función de transferencia $G_3$ y guardala en la variable ```G3```\n",
    "\n",
    "> Nota: Recuerda eliminar la linea ```raise NotImplementedError``` cuando respondas cada ejercicio"
   ]
  },
  {
   "cell_type": "code",
   "execution_count": null,
   "metadata": {
    "deletable": false,
    "nbgrader": {
     "checksum": "abea396a59e8780242e99107ff41635f",
     "grade": false,
     "grade_id": "cell-fb04bdf4deff5d4e",
     "locked": false,
     "schema_version": 1,
     "solution": true
    }
   },
   "outputs": [],
   "source": [
    "L1 = 0.01\n",
    "# ESCRIBE TU CODIGO AQUI\n",
    "raise NotImplementedError"
   ]
  },
  {
   "cell_type": "code",
   "execution_count": null,
   "metadata": {
    "deletable": false,
    "editable": false,
    "nbgrader": {
     "checksum": "8a28da40a62f21a2d1ebaa4905bb90b7",
     "grade": true,
     "grade_id": "cell-b2c5167cab75bc78",
     "locked": true,
     "points": 1,
     "schema_version": 1,
     "solution": false
    }
   },
   "outputs": [],
   "source": [
    "from numpy.testing import assert_allclose\n",
    "\n",
    "assert_allclose(G3.pole(), [-21954.4511501,    -45.5488499])\n",
    "assert_allclose(G3.zero(), [0])"
   ]
  },
  {
   "cell_type": "markdown",
   "metadata": {},
   "source": [
    "* Simula el comportamiento de la corriente $I(t)$ cuando se le es aplicado un voltaje de $12V$, desde el tiempo $0s$ hasta el tiempo $1s$"
   ]
  },
  {
   "cell_type": "code",
   "execution_count": null,
   "metadata": {
    "deletable": false,
    "nbgrader": {
     "checksum": "155da4b8449ff62ca049aa7a6430d1cd",
     "grade": false,
     "grade_id": "cell-7538323c6eb637ba",
     "locked": false,
     "schema_version": 1,
     "solution": true
    }
   },
   "outputs": [],
   "source": [
    "# ESCRIBE TU CODIGO AQUI\n",
    "raise NotImplementedError\n",
    "plot(t, y);"
   ]
  },
  {
   "cell_type": "code",
   "execution_count": null,
   "metadata": {
    "deletable": false,
    "editable": false,
    "nbgrader": {
     "checksum": "2e3d35452b8d2cf175fd93cdeb1584d3",
     "grade": true,
     "grade_id": "cell-af39e2b48e029791",
     "locked": true,
     "points": 2,
     "schema_version": 1,
     "solution": false
    }
   },
   "outputs": [],
   "source": [
    "from nose.tools import assert_almost_equal, assert_equal\n",
    "\n",
    "assert_equal(ts[0], 0)\n",
    "assert_equal(ts[-1], 1)\n",
    "assert_almost_equal(max(y), 0.034573738498078065)\n",
    "assert_almost_equal(y[-1], 0)"
   ]
  },
  {
   "cell_type": "markdown",
   "metadata": {},
   "source": [
    "* Simula el comportamiento del voltaje en el inductor $V_L$"
   ]
  },
  {
   "cell_type": "code",
   "execution_count": null,
   "metadata": {
    "deletable": false,
    "nbgrader": {
     "checksum": "793ea5587a3ee0c26a4e8ec8683b54f2",
     "grade": false,
     "grade_id": "cell-14aa207dfd30525e",
     "locked": false,
     "schema_version": 1,
     "solution": true
    }
   },
   "outputs": [],
   "source": [
    "# ESCRIBE TU CODIGO AQUI\n",
    "raise NotImplementedError\n",
    "plot(t, y);"
   ]
  },
  {
   "cell_type": "code",
   "execution_count": null,
   "metadata": {
    "deletable": false,
    "editable": false,
    "nbgrader": {
     "checksum": "083d9c402b3aa689903a9744113abdea",
     "grade": true,
     "grade_id": "cell-263bef50df787e03",
     "locked": true,
     "points": 2,
     "schema_version": 1,
     "solution": false
    }
   },
   "outputs": [],
   "source": [
    "from nose.tools import assert_almost_equal, assert_equal\n",
    "\n",
    "assert_equal(ts[0], 0)\n",
    "assert_equal(ts[-1], 1)\n",
    "assert_almost_equal(max(y), 12)\n",
    "assert_almost_equal(y[1], -0.01574794025216697)\n",
    "assert_almost_equal(y[-1], 0)"
   ]
  },
  {
   "cell_type": "markdown",
   "metadata": {},
   "source": [
    "---"
   ]
  },
  {
   "cell_type": "markdown",
   "metadata": {},
   "source": [
    "## Un circuito complejo"
   ]
  },
  {
   "cell_type": "markdown",
   "metadata": {},
   "source": [
    "Si ahora queremos simular un sistema mas complejo, tenemos que utilizar un truco muy simple, pero antes analicemos como logramos simular el voltaje en el ejemplo pasado.\n",
    "\n",
    "En el ejemplo anterior ya teniamos una función de transferencia para el sistema completo, pero queriamos especificamente el voltaje, no la corriente, por lo que creamos un sistema nuevo y los simulamos uno detras de otro, esto es equivalente al siguiente diagrama:\n",
    "\n",
    "![](./imagenes/sis2.png)\n",
    "\n",
    "en donde podemos anotar las señales:\n",
    "\n",
    "![](./imagenes/sis3.png)\n",
    "\n",
    "por lo que podemos pensar en la multiplicación de los dos sitemas como un sistema nuevo, podemos revisar esto si analizamos las variables guardadas:"
   ]
  },
  {
   "cell_type": "code",
   "execution_count": null,
   "metadata": {},
   "outputs": [],
   "source": [
    "G1"
   ]
  },
  {
   "cell_type": "code",
   "execution_count": null,
   "metadata": {},
   "outputs": [],
   "source": [
    "G2"
   ]
  },
  {
   "cell_type": "code",
   "execution_count": null,
   "metadata": {},
   "outputs": [],
   "source": [
    "G1*G2"
   ]
  },
  {
   "cell_type": "markdown",
   "metadata": {},
   "source": [
    "Nota que las funciones de transferencia se multiplican correctamente cuando se lo indicamos.\n",
    "\n",
    "Si ahora revisamos nuestro circuito complejo:\n",
    "\n",
    "![](./imagenes/cir3.png)\n",
    "\n",
    "podriamos utilizar Leyes de Kirchoff para obtener ecuaciones diferenciales de este sistema y sería completamente valido, sin embargo, podemos tambien dividir este problema en varios pequeños.\n",
    "\n",
    "El lazo de la izquierda es equivalente a la función de transferencia $G_1$ que ya obtuvimos, mas aún, si ahora lo multiplicamos por la función de transferencia $G_2$ estaremos obteniendo la función de transferencia que haria esto equivalente a una fuente de alimentación de voltaje variable, es decir:\n",
    "\n",
    "![](./imagenes/cir4.png)\n",
    "\n",
    "por lo que ahora solo tenemos que obtener otra función de transferencia para el sistema nuevo."
   ]
  },
  {
   "cell_type": "code",
   "execution_count": null,
   "metadata": {},
   "outputs": [],
   "source": [
    "R2 = 1000\n",
    "C2 = 100e-9\n",
    "L2 = 0.1\n",
    "G1 = tf([1, 0], [L1, R1, 1/C1])\n",
    "G2 = tf([1], [C1, 0])\n",
    "G3 = tf([1, 0], [L2, R2, 1/C2])"
   ]
  },
  {
   "cell_type": "markdown",
   "metadata": {},
   "source": [
    "y simularlo todo completo:"
   ]
  },
  {
   "cell_type": "code",
   "execution_count": null,
   "metadata": {},
   "outputs": [],
   "source": [
    "t, y = step_response(5*G1*G2*G3, ts)"
   ]
  },
  {
   "cell_type": "code",
   "execution_count": null,
   "metadata": {},
   "outputs": [],
   "source": [
    "plot(t, y);"
   ]
  },
  {
   "cell_type": "markdown",
   "metadata": {},
   "source": [
    "y para obtener el voltaje en el capacitor $C_2$"
   ]
  },
  {
   "cell_type": "code",
   "execution_count": null,
   "metadata": {},
   "outputs": [],
   "source": [
    "G4 = tf([1], [C2, 0])"
   ]
  },
  {
   "cell_type": "code",
   "execution_count": null,
   "metadata": {},
   "outputs": [],
   "source": [
    "t, y = step_response(5*G1*G2*G3*G4, ts)\n",
    "plot(t, y);"
   ]
  },
  {
   "cell_type": "markdown",
   "metadata": {},
   "source": [
    "---\n",
    "## Ejercicio"
   ]
  },
  {
   "cell_type": "markdown",
   "metadata": {},
   "source": [
    "* Simule el comportamiento del voltaje en el capacitor $C_2$ del siguiente circuito del tiempo $0s$ a $0.2s$ con 1000 puntos:\n",
    "\n",
    "![](./imagenes/cir5.png)\n",
    "\n",
    "> Nota: Utiliza las variables ```G1```, ```G2```, ```G3```, ```G4```, ```G5``` y ```G6```"
   ]
  },
  {
   "cell_type": "code",
   "execution_count": null,
   "metadata": {
    "deletable": false,
    "nbgrader": {
     "checksum": "ecfaded55e126fa003edd226f3453cf6",
     "grade": false,
     "grade_id": "cell-3a45425393fed876",
     "locked": false,
     "schema_version": 1,
     "solution": true
    }
   },
   "outputs": [],
   "source": [
    "V1 = 12\n",
    "L1 = 0.01\n",
    "L2 = 0.001\n",
    "R1 = 4700\n",
    "R2 = 220\n",
    "C1 = 0.47e-3\n",
    "C2 = 100e-9\n",
    "\n",
    "# ESCRIBE TU CODIGO AQUI\n",
    "raise NotImplementedError\n",
    "plot(t, y);"
   ]
  },
  {
   "cell_type": "code",
   "execution_count": null,
   "metadata": {
    "deletable": false,
    "editable": false,
    "nbgrader": {
     "checksum": "a741ca7f6ee231426f2921f3864dc4d1",
     "grade": true,
     "grade_id": "cell-17cf460b763f417c",
     "locked": true,
     "points": 3,
     "schema_version": 1,
     "solution": false
    }
   },
   "outputs": [],
   "source": [
    "from nose.tools import assert_almost_equal, assert_equal\n",
    "from numpy.testing import assert_allclose\n",
    "\n",
    "assert_equal(ts[0], 0)\n",
    "assert_equal(ts[-1], 0.2)\n",
    "assert_equal(len(ts), 1000)\n",
    "\n",
    "assert_almost_equal(max(y), 24, 2)\n",
    "assert_almost_equal(min(y), 0, 2)\n",
    "assert_almost_equal(y[0], 0)\n",
    "\n",
    "assert_allclose((V1*G1*G2*G3*G4*G5*G6).zero(), [0, 0])\n",
    "assert_allclose((V1*G1*G2*G3*G4*G5*G6).pole(), [-4.7e+06+0.j, -4.5e+04+0.j, 1.5e-12+461.2j,\n",
    "                                                1.5e-12-461.2j,0.0e0 +0.j, 0.0e0+0.j], 5)"
   ]
  },
  {
   "cell_type": "markdown",
   "metadata": {},
   "source": [
    "* Defina una función de transferencia ```G7``` que sea capaz de simular el comportamiento de un amplificador operacional, el cual amplifica su señal de entrada $10$ veces."
   ]
  },
  {
   "cell_type": "code",
   "execution_count": null,
   "metadata": {
    "deletable": false,
    "nbgrader": {
     "checksum": "a0b9b75e6ca44c7118614f88068aaf9e",
     "grade": false,
     "grade_id": "cell-419688ec2127de5b",
     "locked": false,
     "schema_version": 1,
     "solution": true
    }
   },
   "outputs": [],
   "source": [
    "# ESCRIBE TU CODIGO AQUI\n",
    "raise NotImplementedError"
   ]
  },
  {
   "cell_type": "code",
   "execution_count": null,
   "metadata": {
    "deletable": false,
    "editable": false,
    "nbgrader": {
     "checksum": "c11db7cffc80adda8d3791cee9e6eb21",
     "grade": true,
     "grade_id": "cell-96c19a9d10a78b1d",
     "locked": true,
     "points": 1,
     "schema_version": 1,
     "solution": false
    }
   },
   "outputs": [],
   "source": [
    "from numpy.testing import assert_allclose\n",
    "\n",
    "assert_allclose(G7.pole(), [])\n",
    "assert_allclose(G7.zero(), [])\n",
    "assert_allclose(G7.dcgain(), [10])"
   ]
  },
  {
   "cell_type": "markdown",
   "metadata": {},
   "source": [
    "* Defina una función de transferencia ```G8``` que sea capaz de simular el comportamiento de un amplificador operacional configurado como un amplificador integrador, con una ganacia de $5$"
   ]
  },
  {
   "cell_type": "code",
   "execution_count": null,
   "metadata": {
    "deletable": false,
    "nbgrader": {
     "checksum": "68b86eef649857a52d0097a59678f810",
     "grade": false,
     "grade_id": "cell-7449382e293e7a6c",
     "locked": false,
     "schema_version": 1,
     "solution": true
    }
   },
   "outputs": [],
   "source": [
    "# ESCRIBE TU CODIGO AQUI\n",
    "raise NotImplementedError"
   ]
  },
  {
   "cell_type": "code",
   "execution_count": null,
   "metadata": {
    "deletable": false,
    "editable": false,
    "nbgrader": {
     "checksum": "b3f125665947f68cd121f8f7dbc8d45a",
     "grade": true,
     "grade_id": "cell-1499875be97d7b39",
     "locked": true,
     "points": 1,
     "schema_version": 1,
     "solution": false
    }
   },
   "outputs": [],
   "source": [
    "from numpy.testing import assert_allclose\n",
    "from numpy import inf\n",
    "\n",
    "assert_allclose(G8.pole(), [0])\n",
    "assert_allclose(G8.zero(), [])\n",
    "assert_allclose(G8.dcgain(), [inf])"
   ]
  },
  {
   "cell_type": "markdown",
   "metadata": {},
   "source": [
    "---"
   ]
  }
 ],
 "metadata": {
  "kernelspec": {
   "display_name": "Python 3",
   "language": "python",
   "name": "python3"
  },
  "language_info": {
   "codemirror_mode": {
    "name": "ipython",
    "version": 3
   },
   "file_extension": ".py",
   "mimetype": "text/x-python",
   "name": "python",
   "nbconvert_exporter": "python",
   "pygments_lexer": "ipython3",
   "version": "3.6.8"
  }
 },
 "nbformat": 4,
 "nbformat_minor": 2
}
